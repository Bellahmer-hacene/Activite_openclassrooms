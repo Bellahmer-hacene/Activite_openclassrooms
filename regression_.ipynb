{
  "nbformat": 4,
  "nbformat_minor": 0,
  "metadata": {
    "colab": {
      "name": "regression .ipynb",
      "provenance": [],
      "collapsed_sections": [],
      "authorship_tag": "ABX9TyNqKVkKtjO3jIEnZI0BngyC",
      "include_colab_link": true
    },
    "kernelspec": {
      "name": "python3",
      "display_name": "Python 3"
    }
  },
  "cells": [
    {
      "cell_type": "markdown",
      "metadata": {
        "id": "view-in-github",
        "colab_type": "text"
      },
      "source": [
        "<a href=\"https://colab.research.google.com/github/Bellahmer-hacene/Activite_openclassrooms/blob/master/regression_.ipynb\" target=\"_parent\"><img src=\"https://colab.research.google.com/assets/colab-badge.svg\" alt=\"Open In Colab\"/></a>"
      ]
    },
    {
      "cell_type": "markdown",
      "metadata": {
        "id": "EmbTNyNpJh8K",
        "colab_type": "text"
      },
      "source": [
        "# Dataset\n",
        "https://www.kaggle.com/harlfoxem/housesalesprediction\n",
        "# Description:\n",
        "\n",
        "    id - Unique ID for each home sold\n",
        "    date - Date of the home sale\n",
        "    price - Price of each home sold\n",
        "    bedrooms - Number of bedrooms\n",
        "    bathrooms - Number of bathrooms, where .5 accounts for a room with a toilet but no shower\n",
        "    sqft_living - Square footage of the apartments interior living space\n",
        "    sqft_lot - Square footage of the land space\n",
        "    floors - Number of floors\n",
        "    waterfront - A dummy variable for whether the apartment was overlooking the waterfront or not\n",
        "    view - An index from 0 to 4 of how good the view of the property was\n",
        "    condition - An index from 1 to 5 on the condition of the apartment,\n",
        "    grade - An index from 1 to 13, where 1-3 falls short of building construction and design, 7 has an average level of construction and design, and 11-13 have a high quality level of construction and design.\n",
        "    sqft_above - The square footage of the interior housing space that is above ground level\n",
        "    sqft_basement - The square footage of the interior housing space that is below ground level\n",
        "    yr_built - The year the house was initially built\n",
        "    yr_renovated - The year of the house’s last renovation\n",
        "    zipcode - What zipcode area the house is in\n",
        "    lat - Lattitude\n",
        "    long - Longitude\n",
        "    sqft_living15 - The square footage of interior housing living space for the nearest 15 neighbors\n",
        "    sqft_lot15 - The square footage of the land lots of the nearest 15 neighbors\n"
      ]
    },
    {
      "cell_type": "code",
      "metadata": {
        "id": "aj4OjH9FjGD7",
        "colab_type": "code",
        "outputId": "fecab2e3-eb7c-4f19-830e-ec2c39188255",
        "colab": {
          "base_uri": "https://localhost:8080/",
          "height": 217
        }
      },
      "source": [
        "!wget https://raw.githubusercontent.com/Bellahmer-hacene/demo_git/master/kc_house_data.csv"
      ],
      "execution_count": 1,
      "outputs": [
        {
          "output_type": "stream",
          "text": [
            "--2020-04-02 13:22:23--  https://raw.githubusercontent.com/Bellahmer-hacene/demo_git/master/kc_house_data.csv\n",
            "Resolving raw.githubusercontent.com (raw.githubusercontent.com)... 151.101.0.133, 151.101.64.133, 151.101.128.133, ...\n",
            "Connecting to raw.githubusercontent.com (raw.githubusercontent.com)|151.101.0.133|:443... connected.\n",
            "HTTP request sent, awaiting response... 200 OK\n",
            "Length: 2226636 (2.1M) [text/plain]\n",
            "Saving to: ‘kc_house_data.csv.7’\n",
            "\n",
            "\rkc_house_data.csv.7   0%[                    ]       0  --.-KB/s               \rkc_house_data.csv.7 100%[===================>]   2.12M  --.-KB/s    in 0.08s   \n",
            "\n",
            "2020-04-02 13:22:24 (25.7 MB/s) - ‘kc_house_data.csv.7’ saved [2226636/2226636]\n",
            "\n"
          ],
          "name": "stdout"
        }
      ]
    },
    {
      "cell_type": "code",
      "metadata": {
        "id": "3wtzPysPwv5Y",
        "colab_type": "code",
        "outputId": "87ea68ae-d58c-4807-af77-f57046ad2f42",
        "colab": {
          "base_uri": "https://localhost:8080/",
          "height": 72
        }
      },
      "source": [
        "!ls"
      ],
      "execution_count": 2,
      "outputs": [
        {
          "output_type": "stream",
          "text": [
            "kc_house_data.csv    kc_house_data.csv.3  kc_house_data.csv.6\n",
            "kc_house_data.csv.1  kc_house_data.csv.4  kc_house_data.csv.7\n",
            "kc_house_data.csv.2  kc_house_data.csv.5  sample_data\n"
          ],
          "name": "stdout"
        }
      ]
    },
    {
      "cell_type": "code",
      "metadata": {
        "id": "1ks9ILu7jHPt",
        "colab_type": "code",
        "colab": {
          "base_uri": "https://localhost:8080/",
          "height": 73
        },
        "outputId": "8cc04747-9668-411e-b971-dc87bbb4caee"
      },
      "source": [
        "import tensorflow as tf\n",
        "import pandas as pd\n",
        "import numpy as np\n",
        "import seaborn as sns\n",
        "import matplotlib.pyplot as plt"
      ],
      "execution_count": 3,
      "outputs": [
        {
          "output_type": "stream",
          "text": [
            "/usr/local/lib/python3.6/dist-packages/statsmodels/tools/_testing.py:19: FutureWarning: pandas.util.testing is deprecated. Use the functions in the public API at pandas.testing instead.\n",
            "  import pandas.util.testing as tm\n"
          ],
          "name": "stderr"
        }
      ]
    },
    {
      "cell_type": "code",
      "metadata": {
        "id": "XCO4DkN9w-4T",
        "colab_type": "code",
        "colab": {}
      },
      "source": [
        "df = pd.read_csv('kc_house_data.csv')"
      ],
      "execution_count": 0,
      "outputs": []
    },
    {
      "cell_type": "code",
      "metadata": {
        "id": "HIlUE57oKr2M",
        "colab_type": "code",
        "outputId": "bc35bfc1-8911-468f-8429-bbc98c56bef2",
        "colab": {
          "base_uri": "https://localhost:8080/",
          "height": 35
        }
      },
      "source": [
        "len(df)"
      ],
      "execution_count": 5,
      "outputs": [
        {
          "output_type": "execute_result",
          "data": {
            "text/plain": [
              "21597"
            ]
          },
          "metadata": {
            "tags": []
          },
          "execution_count": 5
        }
      ]
    },
    {
      "cell_type": "code",
      "metadata": {
        "id": "ou_eo9pFKu3Y",
        "colab_type": "code",
        "outputId": "b5105930-8469-47f1-bcda-87332245ce3c",
        "colab": {
          "base_uri": "https://localhost:8080/",
          "height": 226
        }
      },
      "source": [
        "df.head()"
      ],
      "execution_count": 6,
      "outputs": [
        {
          "output_type": "execute_result",
          "data": {
            "text/html": [
              "<div>\n",
              "<style scoped>\n",
              "    .dataframe tbody tr th:only-of-type {\n",
              "        vertical-align: middle;\n",
              "    }\n",
              "\n",
              "    .dataframe tbody tr th {\n",
              "        vertical-align: top;\n",
              "    }\n",
              "\n",
              "    .dataframe thead th {\n",
              "        text-align: right;\n",
              "    }\n",
              "</style>\n",
              "<table border=\"1\" class=\"dataframe\">\n",
              "  <thead>\n",
              "    <tr style=\"text-align: right;\">\n",
              "      <th></th>\n",
              "      <th>id</th>\n",
              "      <th>date</th>\n",
              "      <th>price</th>\n",
              "      <th>bedrooms</th>\n",
              "      <th>bathrooms</th>\n",
              "      <th>sqft_living</th>\n",
              "      <th>sqft_lot</th>\n",
              "      <th>floors</th>\n",
              "      <th>waterfront</th>\n",
              "      <th>view</th>\n",
              "      <th>condition</th>\n",
              "      <th>grade</th>\n",
              "      <th>sqft_above</th>\n",
              "      <th>sqft_basement</th>\n",
              "      <th>yr_built</th>\n",
              "      <th>yr_renovated</th>\n",
              "      <th>zipcode</th>\n",
              "      <th>lat</th>\n",
              "      <th>long</th>\n",
              "      <th>sqft_living15</th>\n",
              "      <th>sqft_lot15</th>\n",
              "    </tr>\n",
              "  </thead>\n",
              "  <tbody>\n",
              "    <tr>\n",
              "      <th>0</th>\n",
              "      <td>7129300520</td>\n",
              "      <td>10/13/2014</td>\n",
              "      <td>221900.0</td>\n",
              "      <td>3</td>\n",
              "      <td>1.00</td>\n",
              "      <td>1180</td>\n",
              "      <td>5650</td>\n",
              "      <td>1.0</td>\n",
              "      <td>0</td>\n",
              "      <td>0</td>\n",
              "      <td>3</td>\n",
              "      <td>7</td>\n",
              "      <td>1180</td>\n",
              "      <td>0</td>\n",
              "      <td>1955</td>\n",
              "      <td>0</td>\n",
              "      <td>98178</td>\n",
              "      <td>47.5112</td>\n",
              "      <td>-122.257</td>\n",
              "      <td>1340</td>\n",
              "      <td>5650</td>\n",
              "    </tr>\n",
              "    <tr>\n",
              "      <th>1</th>\n",
              "      <td>6414100192</td>\n",
              "      <td>12/9/2014</td>\n",
              "      <td>538000.0</td>\n",
              "      <td>3</td>\n",
              "      <td>2.25</td>\n",
              "      <td>2570</td>\n",
              "      <td>7242</td>\n",
              "      <td>2.0</td>\n",
              "      <td>0</td>\n",
              "      <td>0</td>\n",
              "      <td>3</td>\n",
              "      <td>7</td>\n",
              "      <td>2170</td>\n",
              "      <td>400</td>\n",
              "      <td>1951</td>\n",
              "      <td>1991</td>\n",
              "      <td>98125</td>\n",
              "      <td>47.7210</td>\n",
              "      <td>-122.319</td>\n",
              "      <td>1690</td>\n",
              "      <td>7639</td>\n",
              "    </tr>\n",
              "    <tr>\n",
              "      <th>2</th>\n",
              "      <td>5631500400</td>\n",
              "      <td>2/25/2015</td>\n",
              "      <td>180000.0</td>\n",
              "      <td>2</td>\n",
              "      <td>1.00</td>\n",
              "      <td>770</td>\n",
              "      <td>10000</td>\n",
              "      <td>1.0</td>\n",
              "      <td>0</td>\n",
              "      <td>0</td>\n",
              "      <td>3</td>\n",
              "      <td>6</td>\n",
              "      <td>770</td>\n",
              "      <td>0</td>\n",
              "      <td>1933</td>\n",
              "      <td>0</td>\n",
              "      <td>98028</td>\n",
              "      <td>47.7379</td>\n",
              "      <td>-122.233</td>\n",
              "      <td>2720</td>\n",
              "      <td>8062</td>\n",
              "    </tr>\n",
              "    <tr>\n",
              "      <th>3</th>\n",
              "      <td>2487200875</td>\n",
              "      <td>12/9/2014</td>\n",
              "      <td>604000.0</td>\n",
              "      <td>4</td>\n",
              "      <td>3.00</td>\n",
              "      <td>1960</td>\n",
              "      <td>5000</td>\n",
              "      <td>1.0</td>\n",
              "      <td>0</td>\n",
              "      <td>0</td>\n",
              "      <td>5</td>\n",
              "      <td>7</td>\n",
              "      <td>1050</td>\n",
              "      <td>910</td>\n",
              "      <td>1965</td>\n",
              "      <td>0</td>\n",
              "      <td>98136</td>\n",
              "      <td>47.5208</td>\n",
              "      <td>-122.393</td>\n",
              "      <td>1360</td>\n",
              "      <td>5000</td>\n",
              "    </tr>\n",
              "    <tr>\n",
              "      <th>4</th>\n",
              "      <td>1954400510</td>\n",
              "      <td>2/18/2015</td>\n",
              "      <td>510000.0</td>\n",
              "      <td>3</td>\n",
              "      <td>2.00</td>\n",
              "      <td>1680</td>\n",
              "      <td>8080</td>\n",
              "      <td>1.0</td>\n",
              "      <td>0</td>\n",
              "      <td>0</td>\n",
              "      <td>3</td>\n",
              "      <td>8</td>\n",
              "      <td>1680</td>\n",
              "      <td>0</td>\n",
              "      <td>1987</td>\n",
              "      <td>0</td>\n",
              "      <td>98074</td>\n",
              "      <td>47.6168</td>\n",
              "      <td>-122.045</td>\n",
              "      <td>1800</td>\n",
              "      <td>7503</td>\n",
              "    </tr>\n",
              "  </tbody>\n",
              "</table>\n",
              "</div>"
            ],
            "text/plain": [
              "           id        date     price  ...     long  sqft_living15  sqft_lot15\n",
              "0  7129300520  10/13/2014  221900.0  ... -122.257           1340        5650\n",
              "1  6414100192   12/9/2014  538000.0  ... -122.319           1690        7639\n",
              "2  5631500400   2/25/2015  180000.0  ... -122.233           2720        8062\n",
              "3  2487200875   12/9/2014  604000.0  ... -122.393           1360        5000\n",
              "4  1954400510   2/18/2015  510000.0  ... -122.045           1800        7503\n",
              "\n",
              "[5 rows x 21 columns]"
            ]
          },
          "metadata": {
            "tags": []
          },
          "execution_count": 6
        }
      ]
    },
    {
      "cell_type": "markdown",
      "metadata": {
        "id": "u6nn6349LCOa",
        "colab_type": "text"
      },
      "source": [
        "#pas de données manquantes"
      ]
    },
    {
      "cell_type": "code",
      "metadata": {
        "id": "cG6RXIxVK10l",
        "colab_type": "code",
        "outputId": "2915b327-30e0-4f4f-fc8f-4284804a36d0",
        "colab": {
          "base_uri": "https://localhost:8080/",
          "height": 417
        }
      },
      "source": [
        "df.isnull().sum()"
      ],
      "execution_count": 7,
      "outputs": [
        {
          "output_type": "execute_result",
          "data": {
            "text/plain": [
              "id               0\n",
              "date             0\n",
              "price            0\n",
              "bedrooms         0\n",
              "bathrooms        0\n",
              "sqft_living      0\n",
              "sqft_lot         0\n",
              "floors           0\n",
              "waterfront       0\n",
              "view             0\n",
              "condition        0\n",
              "grade            0\n",
              "sqft_above       0\n",
              "sqft_basement    0\n",
              "yr_built         0\n",
              "yr_renovated     0\n",
              "zipcode          0\n",
              "lat              0\n",
              "long             0\n",
              "sqft_living15    0\n",
              "sqft_lot15       0\n",
              "dtype: int64"
            ]
          },
          "metadata": {
            "tags": []
          },
          "execution_count": 7
        }
      ]
    },
    {
      "cell_type": "markdown",
      "metadata": {
        "id": "Te1q5NJOLmG4",
        "colab_type": "text"
      },
      "source": [
        "Trés peu de maison ayant un prix > 1 milion"
      ]
    },
    {
      "cell_type": "code",
      "metadata": {
        "id": "HDau9gz_LIXe",
        "colab_type": "code",
        "outputId": "ca7f2cf4-d9a5-45db-9674-d043409a7c31",
        "colab": {
          "base_uri": "https://localhost:8080/",
          "height": 526
        }
      },
      "source": [
        "plt.figure(figsize=(12,8))\n",
        "sns.distplot(df['price'])"
      ],
      "execution_count": 8,
      "outputs": [
        {
          "output_type": "execute_result",
          "data": {
            "text/plain": [
              "<matplotlib.axes._subplots.AxesSubplot at 0x7fae0d1eca90>"
            ]
          },
          "metadata": {
            "tags": []
          },
          "execution_count": 8
        },
        {
          "output_type": "display_data",
          "data": {
            "image/png": "[encoded data removed]",
            "text/plain": [
              "<Figure size 864x576 with 1 Axes>"
            ]
          },
          "metadata": {
            "tags": []
          }
        }
      ]
    },
    {
      "cell_type": "code",
      "metadata": {
        "id": "DMhxtXa9L04O",
        "colab_type": "code",
        "outputId": "caed5608-2fed-4223-d0f8-e834f067009e",
        "colab": {
          "base_uri": "https://localhost:8080/",
          "height": 226
        }
      },
      "source": [
        "df.sort_values('price',ascending=False).head()"
      ],
      "execution_count": 9,
      "outputs": [
        {
          "output_type": "execute_result",
          "data": {
            "text/html": [
              "<div>\n",
              "<style scoped>\n",
              "    .dataframe tbody tr th:only-of-type {\n",
              "        vertical-align: middle;\n",
              "    }\n",
              "\n",
              "    .dataframe tbody tr th {\n",
              "        vertical-align: top;\n",
              "    }\n",
              "\n",
              "    .dataframe thead th {\n",
              "        text-align: right;\n",
              "    }\n",
              "</style>\n",
              "<table border=\"1\" class=\"dataframe\">\n",
              "  <thead>\n",
              "    <tr style=\"text-align: right;\">\n",
              "      <th></th>\n",
              "      <th>id</th>\n",
              "      <th>date</th>\n",
              "      <th>price</th>\n",
              "      <th>bedrooms</th>\n",
              "      <th>bathrooms</th>\n",
              "      <th>sqft_living</th>\n",
              "      <th>sqft_lot</th>\n",
              "      <th>floors</th>\n",
              "      <th>waterfront</th>\n",
              "      <th>view</th>\n",
              "      <th>condition</th>\n",
              "      <th>grade</th>\n",
              "      <th>sqft_above</th>\n",
              "      <th>sqft_basement</th>\n",
              "      <th>yr_built</th>\n",
              "      <th>yr_renovated</th>\n",
              "      <th>zipcode</th>\n",
              "      <th>lat</th>\n",
              "      <th>long</th>\n",
              "      <th>sqft_living15</th>\n",
              "      <th>sqft_lot15</th>\n",
              "    </tr>\n",
              "  </thead>\n",
              "  <tbody>\n",
              "    <tr>\n",
              "      <th>7245</th>\n",
              "      <td>6762700020</td>\n",
              "      <td>10/13/2014</td>\n",
              "      <td>7700000.0</td>\n",
              "      <td>6</td>\n",
              "      <td>8.00</td>\n",
              "      <td>12050</td>\n",
              "      <td>27600</td>\n",
              "      <td>2.5</td>\n",
              "      <td>0</td>\n",
              "      <td>3</td>\n",
              "      <td>4</td>\n",
              "      <td>13</td>\n",
              "      <td>8570</td>\n",
              "      <td>3480</td>\n",
              "      <td>1910</td>\n",
              "      <td>1987</td>\n",
              "      <td>98102</td>\n",
              "      <td>47.6298</td>\n",
              "      <td>-122.323</td>\n",
              "      <td>3940</td>\n",
              "      <td>8800</td>\n",
              "    </tr>\n",
              "    <tr>\n",
              "      <th>3910</th>\n",
              "      <td>9808700762</td>\n",
              "      <td>6/11/2014</td>\n",
              "      <td>7060000.0</td>\n",
              "      <td>5</td>\n",
              "      <td>4.50</td>\n",
              "      <td>10040</td>\n",
              "      <td>37325</td>\n",
              "      <td>2.0</td>\n",
              "      <td>1</td>\n",
              "      <td>2</td>\n",
              "      <td>3</td>\n",
              "      <td>11</td>\n",
              "      <td>7680</td>\n",
              "      <td>2360</td>\n",
              "      <td>1940</td>\n",
              "      <td>2001</td>\n",
              "      <td>98004</td>\n",
              "      <td>47.6500</td>\n",
              "      <td>-122.214</td>\n",
              "      <td>3930</td>\n",
              "      <td>25449</td>\n",
              "    </tr>\n",
              "    <tr>\n",
              "      <th>9245</th>\n",
              "      <td>9208900037</td>\n",
              "      <td>9/19/2014</td>\n",
              "      <td>6890000.0</td>\n",
              "      <td>6</td>\n",
              "      <td>7.75</td>\n",
              "      <td>9890</td>\n",
              "      <td>31374</td>\n",
              "      <td>2.0</td>\n",
              "      <td>0</td>\n",
              "      <td>4</td>\n",
              "      <td>3</td>\n",
              "      <td>13</td>\n",
              "      <td>8860</td>\n",
              "      <td>1030</td>\n",
              "      <td>2001</td>\n",
              "      <td>0</td>\n",
              "      <td>98039</td>\n",
              "      <td>47.6305</td>\n",
              "      <td>-122.240</td>\n",
              "      <td>4540</td>\n",
              "      <td>42730</td>\n",
              "    </tr>\n",
              "    <tr>\n",
              "      <th>4407</th>\n",
              "      <td>2470100110</td>\n",
              "      <td>8/4/2014</td>\n",
              "      <td>5570000.0</td>\n",
              "      <td>5</td>\n",
              "      <td>5.75</td>\n",
              "      <td>9200</td>\n",
              "      <td>35069</td>\n",
              "      <td>2.0</td>\n",
              "      <td>0</td>\n",
              "      <td>0</td>\n",
              "      <td>3</td>\n",
              "      <td>13</td>\n",
              "      <td>6200</td>\n",
              "      <td>3000</td>\n",
              "      <td>2001</td>\n",
              "      <td>0</td>\n",
              "      <td>98039</td>\n",
              "      <td>47.6289</td>\n",
              "      <td>-122.233</td>\n",
              "      <td>3560</td>\n",
              "      <td>24345</td>\n",
              "    </tr>\n",
              "    <tr>\n",
              "      <th>1446</th>\n",
              "      <td>8907500070</td>\n",
              "      <td>4/13/2015</td>\n",
              "      <td>5350000.0</td>\n",
              "      <td>5</td>\n",
              "      <td>5.00</td>\n",
              "      <td>8000</td>\n",
              "      <td>23985</td>\n",
              "      <td>2.0</td>\n",
              "      <td>0</td>\n",
              "      <td>4</td>\n",
              "      <td>3</td>\n",
              "      <td>12</td>\n",
              "      <td>6720</td>\n",
              "      <td>1280</td>\n",
              "      <td>2009</td>\n",
              "      <td>0</td>\n",
              "      <td>98004</td>\n",
              "      <td>47.6232</td>\n",
              "      <td>-122.220</td>\n",
              "      <td>4600</td>\n",
              "      <td>21750</td>\n",
              "    </tr>\n",
              "  </tbody>\n",
              "</table>\n",
              "</div>"
            ],
            "text/plain": [
              "              id        date      price  ...     long  sqft_living15  sqft_lot15\n",
              "7245  6762700020  10/13/2014  7700000.0  ... -122.323           3940        8800\n",
              "3910  9808700762   6/11/2014  7060000.0  ... -122.214           3930       25449\n",
              "9245  9208900037   9/19/2014  6890000.0  ... -122.240           4540       42730\n",
              "4407  2470100110    8/4/2014  5570000.0  ... -122.233           3560       24345\n",
              "1446  8907500070   4/13/2015  5350000.0  ... -122.220           4600       21750\n",
              "\n",
              "[5 rows x 21 columns]"
            ]
          },
          "metadata": {
            "tags": []
          },
          "execution_count": 9
        }
      ]
    },
    {
      "cell_type": "code",
      "metadata": {
        "id": "hMNRl_YONE7E",
        "colab_type": "code",
        "outputId": "4bf5e761-1aec-4775-fff3-bf8bc678ef51",
        "colab": {
          "base_uri": "https://localhost:8080/",
          "height": 35
        }
      },
      "source": [
        "df['price'].median()"
      ],
      "execution_count": 10,
      "outputs": [
        {
          "output_type": "execute_result",
          "data": {
            "text/plain": [
              "450000.0"
            ]
          },
          "metadata": {
            "tags": []
          },
          "execution_count": 10
        }
      ]
    },
    {
      "cell_type": "code",
      "metadata": {
        "id": "TqSYPk3VNOeS",
        "colab_type": "code",
        "outputId": "e8290484-822b-4f64-a21b-e38e123f053d",
        "colab": {
          "base_uri": "https://localhost:8080/",
          "height": 35
        }
      },
      "source": [
        "df['price'].mean()"
      ],
      "execution_count": 11,
      "outputs": [
        {
          "output_type": "execute_result",
          "data": {
            "text/plain": [
              "540296.5735055795"
            ]
          },
          "metadata": {
            "tags": []
          },
          "execution_count": 11
        }
      ]
    },
    {
      "cell_type": "markdown",
      "metadata": {
        "id": "HKSRZrH4MTM-",
        "colab_type": "text"
      },
      "source": [
        "# supprimer 15% de la dataset (maison ayant un prix trop élevé)"
      ]
    },
    {
      "cell_type": "code",
      "metadata": {
        "id": "Kq_-7JTx4FjH",
        "colab_type": "code",
        "outputId": "533077d2-8370-4b7f-cbc1-24a8dfa5d711",
        "colab": {
          "base_uri": "https://localhost:8080/",
          "height": 35
        }
      },
      "source": [
        "len(df)*(0.15)"
      ],
      "execution_count": 12,
      "outputs": [
        {
          "output_type": "execute_result",
          "data": {
            "text/plain": [
              "3239.5499999999997"
            ]
          },
          "metadata": {
            "tags": []
          },
          "execution_count": 12
        }
      ]
    },
    {
      "cell_type": "code",
      "metadata": {
        "id": "ayFjBho94Jur",
        "colab_type": "code",
        "colab": {}
      },
      "source": [
        "df = df.sort_values('price',ascending=False).iloc[3240:]"
      ],
      "execution_count": 0,
      "outputs": []
    },
    {
      "cell_type": "code",
      "metadata": {
        "id": "fJdg2W4YMDx4",
        "colab_type": "code",
        "outputId": "30143bf0-c530-48b4-df0f-9cfc48dd5920",
        "colab": {
          "base_uri": "https://localhost:8080/",
          "height": 526
        }
      },
      "source": [
        "plt.figure(figsize=(12,8))\n",
        "sns.distplot(df['price'])"
      ],
      "execution_count": 14,
      "outputs": [
        {
          "output_type": "execute_result",
          "data": {
            "text/plain": [
              "<matplotlib.axes._subplots.AxesSubplot at 0x7fae0cbffe80>"
            ]
          },
          "metadata": {
            "tags": []
          },
          "execution_count": 14
        },
        {
          "output_type": "display_data",
          "data": {
            "image/png": "[encoded data removed]",
            "text/plain": [
              "<Figure size 864x576 with 1 Axes>"
            ]
          },
          "metadata": {
            "tags": []
          }
        }
      ]
    },
    {
      "cell_type": "code",
      "metadata": {
        "id": "ZTgOgxr-MoqT",
        "colab_type": "code",
        "outputId": "b35a07e8-f61e-4ba0-bc74-7ac239eb10dd",
        "colab": {
          "base_uri": "https://localhost:8080/",
          "height": 226
        }
      },
      "source": [
        "df.sort_values('price',ascending=False).head()"
      ],
      "execution_count": 15,
      "outputs": [
        {
          "output_type": "execute_result",
          "data": {
            "text/html": [
              "<div>\n",
              "<style scoped>\n",
              "    .dataframe tbody tr th:only-of-type {\n",
              "        vertical-align: middle;\n",
              "    }\n",
              "\n",
              "    .dataframe tbody tr th {\n",
              "        vertical-align: top;\n",
              "    }\n",
              "\n",
              "    .dataframe thead th {\n",
              "        text-align: right;\n",
              "    }\n",
              "</style>\n",
              "<table border=\"1\" class=\"dataframe\">\n",
              "  <thead>\n",
              "    <tr style=\"text-align: right;\">\n",
              "      <th></th>\n",
              "      <th>id</th>\n",
              "      <th>date</th>\n",
              "      <th>price</th>\n",
              "      <th>bedrooms</th>\n",
              "      <th>bathrooms</th>\n",
              "      <th>sqft_living</th>\n",
              "      <th>sqft_lot</th>\n",
              "      <th>floors</th>\n",
              "      <th>waterfront</th>\n",
              "      <th>view</th>\n",
              "      <th>condition</th>\n",
              "      <th>grade</th>\n",
              "      <th>sqft_above</th>\n",
              "      <th>sqft_basement</th>\n",
              "      <th>yr_built</th>\n",
              "      <th>yr_renovated</th>\n",
              "      <th>zipcode</th>\n",
              "      <th>lat</th>\n",
              "      <th>long</th>\n",
              "      <th>sqft_living15</th>\n",
              "      <th>sqft_lot15</th>\n",
              "    </tr>\n",
              "  </thead>\n",
              "  <tbody>\n",
              "    <tr>\n",
              "      <th>20606</th>\n",
              "      <td>6666830390</td>\n",
              "      <td>7/18/2014</td>\n",
              "      <td>779380.0</td>\n",
              "      <td>5</td>\n",
              "      <td>2.50</td>\n",
              "      <td>2590</td>\n",
              "      <td>7084</td>\n",
              "      <td>2.0</td>\n",
              "      <td>0</td>\n",
              "      <td>0</td>\n",
              "      <td>3</td>\n",
              "      <td>8</td>\n",
              "      <td>2590</td>\n",
              "      <td>0</td>\n",
              "      <td>2014</td>\n",
              "      <td>0</td>\n",
              "      <td>98052</td>\n",
              "      <td>47.7053</td>\n",
              "      <td>-122.113</td>\n",
              "      <td>3010</td>\n",
              "      <td>4823</td>\n",
              "    </tr>\n",
              "    <tr>\n",
              "      <th>2725</th>\n",
              "      <td>5071401000</td>\n",
              "      <td>8/29/2014</td>\n",
              "      <td>779000.0</td>\n",
              "      <td>6</td>\n",
              "      <td>2.50</td>\n",
              "      <td>3250</td>\n",
              "      <td>12000</td>\n",
              "      <td>1.0</td>\n",
              "      <td>0</td>\n",
              "      <td>1</td>\n",
              "      <td>3</td>\n",
              "      <td>8</td>\n",
              "      <td>1800</td>\n",
              "      <td>1450</td>\n",
              "      <td>1966</td>\n",
              "      <td>0</td>\n",
              "      <td>98115</td>\n",
              "      <td>47.6935</td>\n",
              "      <td>-122.280</td>\n",
              "      <td>3490</td>\n",
              "      <td>10320</td>\n",
              "    </tr>\n",
              "    <tr>\n",
              "      <th>5374</th>\n",
              "      <td>269000221</td>\n",
              "      <td>8/26/2014</td>\n",
              "      <td>779000.0</td>\n",
              "      <td>3</td>\n",
              "      <td>1.75</td>\n",
              "      <td>2320</td>\n",
              "      <td>6400</td>\n",
              "      <td>1.0</td>\n",
              "      <td>0</td>\n",
              "      <td>2</td>\n",
              "      <td>4</td>\n",
              "      <td>8</td>\n",
              "      <td>1420</td>\n",
              "      <td>900</td>\n",
              "      <td>1957</td>\n",
              "      <td>0</td>\n",
              "      <td>98199</td>\n",
              "      <td>47.6449</td>\n",
              "      <td>-122.389</td>\n",
              "      <td>2540</td>\n",
              "      <td>7680</td>\n",
              "    </tr>\n",
              "    <tr>\n",
              "      <th>15663</th>\n",
              "      <td>3956900480</td>\n",
              "      <td>9/3/2014</td>\n",
              "      <td>779000.0</td>\n",
              "      <td>3</td>\n",
              "      <td>1.75</td>\n",
              "      <td>1990</td>\n",
              "      <td>5600</td>\n",
              "      <td>1.0</td>\n",
              "      <td>0</td>\n",
              "      <td>1</td>\n",
              "      <td>3</td>\n",
              "      <td>8</td>\n",
              "      <td>1330</td>\n",
              "      <td>660</td>\n",
              "      <td>1941</td>\n",
              "      <td>0</td>\n",
              "      <td>98199</td>\n",
              "      <td>47.6500</td>\n",
              "      <td>-122.415</td>\n",
              "      <td>2630</td>\n",
              "      <td>6780</td>\n",
              "    </tr>\n",
              "    <tr>\n",
              "      <th>21379</th>\n",
              "      <td>3879900754</td>\n",
              "      <td>9/15/2014</td>\n",
              "      <td>779000.0</td>\n",
              "      <td>3</td>\n",
              "      <td>2.50</td>\n",
              "      <td>1580</td>\n",
              "      <td>1487</td>\n",
              "      <td>3.0</td>\n",
              "      <td>0</td>\n",
              "      <td>1</td>\n",
              "      <td>3</td>\n",
              "      <td>9</td>\n",
              "      <td>1580</td>\n",
              "      <td>0</td>\n",
              "      <td>2009</td>\n",
              "      <td>0</td>\n",
              "      <td>98119</td>\n",
              "      <td>47.6276</td>\n",
              "      <td>-122.359</td>\n",
              "      <td>1610</td>\n",
              "      <td>1297</td>\n",
              "    </tr>\n",
              "  </tbody>\n",
              "</table>\n",
              "</div>"
            ],
            "text/plain": [
              "               id       date     price  ...     long  sqft_living15  sqft_lot15\n",
              "20606  6666830390  7/18/2014  779380.0  ... -122.113           3010        4823\n",
              "2725   5071401000  8/29/2014  779000.0  ... -122.280           3490       10320\n",
              "5374    269000221  8/26/2014  779000.0  ... -122.389           2540        7680\n",
              "15663  3956900480   9/3/2014  779000.0  ... -122.415           2630        6780\n",
              "21379  3879900754  9/15/2014  779000.0  ... -122.359           1610        1297\n",
              "\n",
              "[5 rows x 21 columns]"
            ]
          },
          "metadata": {
            "tags": []
          },
          "execution_count": 15
        }
      ]
    },
    {
      "cell_type": "code",
      "metadata": {
        "id": "PDvdqTepN7uo",
        "colab_type": "code",
        "outputId": "7d2a303d-2705-446c-d417-0bae620aa4a3",
        "colab": {
          "base_uri": "https://localhost:8080/",
          "height": 35
        }
      },
      "source": [
        "df['price'].median()"
      ],
      "execution_count": 16,
      "outputs": [
        {
          "output_type": "execute_result",
          "data": {
            "text/plain": [
              "411000.0"
            ]
          },
          "metadata": {
            "tags": []
          },
          "execution_count": 16
        }
      ]
    },
    {
      "cell_type": "code",
      "metadata": {
        "id": "r3PE11-kOYWV",
        "colab_type": "code",
        "outputId": "2cd7b83a-81c3-46f8-fdad-d1b9792d22f7",
        "colab": {
          "base_uri": "https://localhost:8080/",
          "height": 35
        }
      },
      "source": [
        "df['price'].mean()"
      ],
      "execution_count": 17,
      "outputs": [
        {
          "output_type": "execute_result",
          "data": {
            "text/plain": [
              "428690.395870785"
            ]
          },
          "metadata": {
            "tags": []
          },
          "execution_count": 17
        }
      ]
    },
    {
      "cell_type": "markdown",
      "metadata": {
        "id": "1ZtVymkySXmI",
        "colab_type": "text"
      },
      "source": [
        "# Feature Engineering pour la Date"
      ]
    },
    {
      "cell_type": "code",
      "metadata": {
        "id": "AbWr75ZB4WGm",
        "colab_type": "code",
        "colab": {}
      },
      "source": [
        "df = df.drop('id',axis=1)\n",
        "df['date'] = pd.to_datetime(df['date'])\n",
        "df['month'] = df['date'].apply(lambda date:date.month)\n",
        "df['year'] = df['date'].apply(lambda date:date.year)\n",
        "df = df.drop('date',axis=1)\n",
        "df = df.drop('zipcode',axis=1)\n",
        "X = df.drop('price',axis=1).values\n",
        "y = df['price'].values"
      ],
      "execution_count": 0,
      "outputs": []
    },
    {
      "cell_type": "markdown",
      "metadata": {
        "id": "JpEETXydSva2",
        "colab_type": "text"
      },
      "source": [
        "# Mise à l'échelle et Train Test Split"
      ]
    },
    {
      "cell_type": "code",
      "metadata": {
        "id": "MyRFGI-j4sCQ",
        "colab_type": "code",
        "colab": {}
      },
      "source": [
        "from sklearn.model_selection import train_test_split\n",
        "X_train, X_test, y_train, y_test = train_test_split(X,y,test_size=0.25,random_state=101)"
      ],
      "execution_count": 0,
      "outputs": []
    },
    {
      "cell_type": "code",
      "metadata": {
        "id": "XbLlKdCk4sm3",
        "colab_type": "code",
        "colab": {}
      },
      "source": [
        "from sklearn.preprocessing import MinMaxScaler\n",
        "scaler = MinMaxScaler()\n",
        "X_train= scaler.fit_transform(X_train)\n",
        "X_test = scaler.transform(X_test)"
      ],
      "execution_count": 0,
      "outputs": []
    },
    {
      "cell_type": "markdown",
      "metadata": {
        "id": "wSEIoyRHTIjs",
        "colab_type": "text"
      },
      "source": [
        "# Création d'un modèle"
      ]
    },
    {
      "cell_type": "code",
      "metadata": {
        "id": "Z7QsiQz643m-",
        "colab_type": "code",
        "outputId": "0a29d379-9b05-4156-e142-09ce96726a17",
        "colab": {
          "base_uri": "https://localhost:8080/",
          "height": 1000
        }
      },
      "source": [
        "from tensorflow.keras.models import Sequential\n",
        "from tensorflow.keras.layers import Dense, Activation,Dropout\n",
        "from tensorflow.keras.callbacks import EarlyStopping\n",
        "\n",
        "# Build the neural network\n",
        "model = Sequential()\n",
        "model.add(Dense(units=100, activation='relu', input_shape=(19, ))) # Hidden 1\n",
        "model.add(Dense(100, activation='relu'))\n",
        "model.add(Dense(100, activation='relu'))\n",
        "model.add(Dense(100, activation='relu'))\n",
        "model.add(Dense(100, activation='relu'))\n",
        "model.add(Dense(100, activation='relu'))\n",
        "model.add(Dense(100, activation='relu'))\n",
        "model.add(Dense(1)) # Output\n",
        "model.compile(loss='mean_squared_error', optimizer='adam')\n",
        "monitor = EarlyStopping(monitor='val_loss', min_delta=1e-3, \n",
        "                        patience=5, verbose=1, mode='auto', restore_best_weights=True)\n",
        "model.fit(X_train,y_train,validation_data=(X_test,y_test),callbacks=[monitor],verbose=2,epochs=1000)"
      ],
      "execution_count": 21,
      "outputs": [
        {
          "output_type": "stream",
          "text": [
            "Epoch 1/1000\n",
            "431/431 - 2s - loss: 45202550784.0000 - val_loss: 11346128896.0000\n",
            "Epoch 2/1000\n",
            "431/431 - 1s - loss: 9793925120.0000 - val_loss: 9245282304.0000\n",
            "Epoch 3/1000\n",
            "431/431 - 1s - loss: 9015370752.0000 - val_loss: 8805202944.0000\n",
            "Epoch 4/1000\n",
            "431/431 - 1s - loss: 8826195968.0000 - val_loss: 9018827776.0000\n",
            "Epoch 5/1000\n",
            "431/431 - 1s - loss: 8664554496.0000 - val_loss: 8824430592.0000\n",
            "Epoch 6/1000\n",
            "431/431 - 1s - loss: 8416738304.0000 - val_loss: 9180523520.0000\n",
            "Epoch 7/1000\n",
            "431/431 - 1s - loss: 8333014016.0000 - val_loss: 8116614656.0000\n",
            "Epoch 8/1000\n",
            "431/431 - 1s - loss: 8030610944.0000 - val_loss: 8102753792.0000\n",
            "Epoch 9/1000\n",
            "431/431 - 1s - loss: 7890945024.0000 - val_loss: 7851611648.0000\n",
            "Epoch 10/1000\n",
            "431/431 - 1s - loss: 7610775552.0000 - val_loss: 7402175488.0000\n",
            "Epoch 11/1000\n",
            "431/431 - 1s - loss: 7447245824.0000 - val_loss: 7172849664.0000\n",
            "Epoch 12/1000\n",
            "431/431 - 1s - loss: 7161600000.0000 - val_loss: 7076419584.0000\n",
            "Epoch 13/1000\n",
            "431/431 - 1s - loss: 7013155840.0000 - val_loss: 7869114880.0000\n",
            "Epoch 14/1000\n",
            "431/431 - 2s - loss: 6801258496.0000 - val_loss: 6655868928.0000\n",
            "Epoch 15/1000\n",
            "431/431 - 1s - loss: 6693678080.0000 - val_loss: 6560016384.0000\n",
            "Epoch 16/1000\n",
            "431/431 - 1s - loss: 6442618880.0000 - val_loss: 6538955776.0000\n",
            "Epoch 17/1000\n",
            "431/431 - 1s - loss: 6341471232.0000 - val_loss: 6298939904.0000\n",
            "Epoch 18/1000\n",
            "431/431 - 1s - loss: 6091594752.0000 - val_loss: 5990506496.0000\n",
            "Epoch 19/1000\n",
            "431/431 - 1s - loss: 5914340352.0000 - val_loss: 6610754048.0000\n",
            "Epoch 20/1000\n",
            "431/431 - 1s - loss: 5875103232.0000 - val_loss: 5730904064.0000\n",
            "Epoch 21/1000\n",
            "431/431 - 1s - loss: 5806205952.0000 - val_loss: 5598652928.0000\n",
            "Epoch 22/1000\n",
            "431/431 - 1s - loss: 5353466880.0000 - val_loss: 5417837568.0000\n",
            "Epoch 23/1000\n",
            "431/431 - 1s - loss: 5352493056.0000 - val_loss: 5368672256.0000\n",
            "Epoch 24/1000\n",
            "431/431 - 2s - loss: 5295278592.0000 - val_loss: 5149738496.0000\n",
            "Epoch 25/1000\n",
            "431/431 - 1s - loss: 5008071680.0000 - val_loss: 5104328192.0000\n",
            "Epoch 26/1000\n",
            "431/431 - 1s - loss: 4952370688.0000 - val_loss: 6091692032.0000\n",
            "Epoch 27/1000\n",
            "431/431 - 1s - loss: 4899923456.0000 - val_loss: 4994393600.0000\n",
            "Epoch 28/1000\n",
            "431/431 - 1s - loss: 4837056512.0000 - val_loss: 5346616832.0000\n",
            "Epoch 29/1000\n",
            "431/431 - 1s - loss: 4831738880.0000 - val_loss: 4841067520.0000\n",
            "Epoch 30/1000\n",
            "431/431 - 1s - loss: 4680269312.0000 - val_loss: 4845725696.0000\n",
            "Epoch 31/1000\n",
            "431/431 - 1s - loss: 4687726592.0000 - val_loss: 4795905536.0000\n",
            "Epoch 32/1000\n",
            "431/431 - 1s - loss: 4577697280.0000 - val_loss: 6232356864.0000\n",
            "Epoch 33/1000\n",
            "431/431 - 1s - loss: 4610297856.0000 - val_loss: 4804221952.0000\n",
            "Epoch 34/1000\n",
            "431/431 - 1s - loss: 4511875584.0000 - val_loss: 4710600704.0000\n",
            "Epoch 35/1000\n",
            "431/431 - 1s - loss: 4453820928.0000 - val_loss: 4692425728.0000\n",
            "Epoch 36/1000\n",
            "431/431 - 1s - loss: 4550807552.0000 - val_loss: 5273593856.0000\n",
            "Epoch 37/1000\n",
            "431/431 - 1s - loss: 4488112640.0000 - val_loss: 4601801728.0000\n",
            "Epoch 38/1000\n",
            "431/431 - 1s - loss: 4370718208.0000 - val_loss: 4591946240.0000\n",
            "Epoch 39/1000\n",
            "431/431 - 1s - loss: 4367866368.0000 - val_loss: 4850493440.0000\n",
            "Epoch 40/1000\n",
            "431/431 - 1s - loss: 4365442048.0000 - val_loss: 4520907776.0000\n",
            "Epoch 41/1000\n",
            "431/431 - 1s - loss: 4378317312.0000 - val_loss: 4623245312.0000\n",
            "Epoch 42/1000\n",
            "431/431 - 1s - loss: 4245759232.0000 - val_loss: 4975532032.0000\n",
            "Epoch 43/1000\n",
            "431/431 - 1s - loss: 4239074304.0000 - val_loss: 4542061056.0000\n",
            "Epoch 44/1000\n",
            "431/431 - 1s - loss: 4318343680.0000 - val_loss: 4643859456.0000\n",
            "Epoch 45/1000\n",
            "Restoring model weights from the end of the best epoch.\n",
            "431/431 - 1s - loss: 4208769280.0000 - val_loss: 4582246912.0000\n",
            "Epoch 00045: early stopping\n"
          ],
          "name": "stdout"
        },
        {
          "output_type": "execute_result",
          "data": {
            "text/plain": [
              "<tensorflow.python.keras.callbacks.History at 0x7fae05131240>"
            ]
          },
          "metadata": {
            "tags": []
          },
          "execution_count": 21
        }
      ]
    },
    {
      "cell_type": "code",
      "metadata": {
        "id": "RoTfDTObPgzB",
        "colab_type": "code",
        "outputId": "6485b607-4fac-4474-831c-00147986a778",
        "colab": {
          "base_uri": "https://localhost:8080/",
          "height": 312
        }
      },
      "source": [
        "plt.figure(figsize=(12,8))\n",
        "losses = pd.DataFrame(model.history.history)\n",
        "losses.plot()"
      ],
      "execution_count": 22,
      "outputs": [
        {
          "output_type": "execute_result",
          "data": {
            "text/plain": [
              "<matplotlib.axes._subplots.AxesSubplot at 0x7fae02206400>"
            ]
          },
          "metadata": {
            "tags": []
          },
          "execution_count": 22
        },
        {
          "output_type": "display_data",
          "data": {
            "text/plain": [
              "<Figure size 864x576 with 0 Axes>"
            ]
          },
          "metadata": {
            "tags": []
          }
        },
        {
          "output_type": "display_data",
          "data": {
            "image/png": "[encoded data removed]",
            "text/plain": [
              "<Figure size 432x288 with 1 Axes>"
            ]
          },
          "metadata": {
            "tags": []
          }
        }
      ]
    },
    {
      "cell_type": "markdown",
      "metadata": {
        "id": "8yhipCjnT77s",
        "colab_type": "text"
      },
      "source": [
        "# Évaluation sur les données de test"
      ]
    },
    {
      "cell_type": "code",
      "metadata": {
        "id": "BHevLi3M5JI8",
        "colab_type": "code",
        "outputId": "7e28b3e6-e2e5-4fd3-b22a-135418176bca",
        "colab": {
          "base_uri": "https://localhost:8080/",
          "height": 90
        }
      },
      "source": [
        "from sklearn.metrics import mean_squared_error,mean_absolute_error,explained_variance_score\n",
        "\n",
        "predictions = model.predict(X_test)\n",
        "\n",
        "MSE = mean_squared_error(y_test,predictions)\n",
        "RMSE = np.sqrt(mean_squared_error(y_test,predictions))\n",
        "MAE = mean_absolute_error(y_test,predictions)\n",
        "EVS = explained_variance_score(y_test,predictions)\n",
        "print(\"MSE : {}\".format(MSE))\n",
        "print(\"RMSE : {}\".format(RMSE))\n",
        "print(\"MAE : {}\".format(MAE))\n",
        "print(\"EVS : {}\".format(EVS))"
      ],
      "execution_count": 23,
      "outputs": [
        {
          "output_type": "stream",
          "text": [
            "MSE : 4512128377.47044\n",
            "RMSE : 67172.37808407887\n",
            "MAE : 48974.53552389706\n",
            "EVS : 0.8149602415539379\n"
          ],
          "name": "stdout"
        }
      ]
    },
    {
      "cell_type": "code",
      "metadata": {
        "id": "ACQNCDc4Erdj",
        "colab_type": "code",
        "colab": {}
      },
      "source": [
        "def chart_regression(pred, y, sort=True):\n",
        "    plt.figure(figsize=(12,8))\n",
        "    t = pd.DataFrame({'pred': pred, 'y': y.flatten()})\n",
        "    if sort:\n",
        "        t.sort_values(by=['y'], inplace=True) \n",
        "    plt.plot(t['pred'].tolist(), label='prediction')\n",
        "    plt.plot(t['y'].tolist(), label='expected')\n",
        "    plt.ylabel('output')\n",
        "    plt.legend()\n",
        "    plt.show()"
      ],
      "execution_count": 0,
      "outputs": []
    },
    {
      "cell_type": "code",
      "metadata": {
        "id": "f272b5c4EsNX",
        "colab_type": "code",
        "outputId": "3b98b5e0-6f8e-40a6-84d0-f82415265e48",
        "colab": {
          "base_uri": "https://localhost:8080/",
          "height": 483
        }
      },
      "source": [
        "chart_regression(predictions.flatten(),y_test)"
      ],
      "execution_count": 25,
      "outputs": [
        {
          "output_type": "display_data",
          "data": {
            "image/png": "[encoded data removed]",
            "text/plain": [
              "<Figure size 864x576 with 1 Axes>"
            ]
          },
          "metadata": {
            "tags": []
          }
        }
      ]
    },
    {
      "cell_type": "code",
      "metadata": {
        "id": "A2rzNBArGM_7",
        "colab_type": "code",
        "outputId": "5864334c-0727-483e-bb83-6293f2667ba1",
        "colab": {
          "base_uri": "https://localhost:8080/",
          "height": 501
        }
      },
      "source": [
        "plt.figure(figsize=(12,8))\n",
        "# Our predictions\n",
        "plt.scatter(y_test,predictions)\n",
        "\n",
        "# Perfect predictions\n",
        "plt.plot(y_test,y_test,'r')"
      ],
      "execution_count": 26,
      "outputs": [
        {
          "output_type": "execute_result",
          "data": {
            "text/plain": [
              "[<matplotlib.lines.Line2D at 0x7fae0cb32f28>]"
            ]
          },
          "metadata": {
            "tags": []
          },
          "execution_count": 26
        },
        {
          "output_type": "display_data",
          "data": {
            "image/png": "[encoded data removed]",
            "text/plain": [
              "<Figure size 864x576 with 1 Axes>"
            ]
          },
          "metadata": {
            "tags": []
          }
        }
      ]
    },
    {
      "cell_type": "code",
      "metadata": {
        "id": "PisfOCfN2zV-",
        "colab_type": "code",
        "colab": {}
      },
      "source": [
        ""
      ],
      "execution_count": 0,
      "outputs": []
    }
  ]
}